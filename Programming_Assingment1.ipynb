{
 "cells": [
  {
   "cell_type": "code",
   "execution_count": 31,
   "metadata": {},
   "outputs": [
    {
     "name": "stdout",
     "output_type": "stream",
     "text": [
      "Hello Python\n"
     ]
    }
   ],
   "source": [
    "# 1.Write a Python program to print \"Hello Python\"?\n",
    "print('Hello Python')"
   ]
  },
  {
   "cell_type": "code",
   "execution_count": 32,
   "metadata": {},
   "outputs": [
    {
     "name": "stdout",
     "output_type": "stream",
     "text": [
      "enter integer value of a: 10\n",
      "enter integer value of b: 20\n",
      "the sum of above numbers is = 30\n",
      "the quotient of above numbers is = 0.5\n"
     ]
    }
   ],
   "source": [
    "# 2.Write a Python program to do arithmetical operations addition and division.?\n",
    "\n",
    "a = int(input('enter integer value of a: '))\n",
    "b = int(input('enter integer value of b: '))\n",
    "\n",
    "print('the sum of above numbers is = {}' .format(a+b))\n",
    "print('the quotient of above numbers is = {}' .format(a/b))"
   ]
  },
  {
   "cell_type": "code",
   "execution_count": 21,
   "metadata": {},
   "outputs": [
    {
     "name": "stdout",
     "output_type": "stream",
     "text": [
      "enter base length of triangle : 10\n",
      "enter height of triangle : 5.3\n",
      "area of triange = 26.5\n"
     ]
    }
   ],
   "source": [
    "# 3.Write a Python program to find the area of a triangle?\n",
    "\n",
    "b = float(input('enter base length of triangle : '))\n",
    "h = float(input('enter height of triangle : '))\n",
    "\n",
    "print('area of triange = {}' .format(0.5*b*h))\n"
   ]
  },
  {
   "cell_type": "code",
   "execution_count": 12,
   "metadata": {},
   "outputs": [
    {
     "name": "stdout",
     "output_type": "stream",
     "text": [
      "enter base length of triangle : 10\n",
      "units(cms/inches/ft) : cms\n",
      "enter height of triangle : 5.4\n",
      "units(cms/inches/ft) : ft\n",
      "Area of given triangle = 822.96 sq.cms\n"
     ]
    }
   ],
   "source": [
    "# 3.Write a Python program to find the area of a triangle?\n",
    "\n",
    "# I tried to convert both length and ht in to same units and then print area.\n",
    "\n",
    "b = float(input('enter base length of triangle : '))\n",
    "x = str(input('units(cms/inches/ft) : '))\n",
    "h = float(input('enter height of triangle : '))\n",
    "y = str(input('units(cms/inches/ft) : '))\n",
    "\n",
    "# if length is in cms and y is in cms or inches or ft\n",
    "\n",
    "if x == 'cms' and y == 'cms' :\n",
    "     print('Area of given triangle = {} sq.{}' .format(0.5*b*h, x) )\n",
    "\n",
    "if x == 'cms' and y != 'cms' :\n",
    "    if y == 'inches' :\n",
    "        h = 2.54 * h\n",
    "    if y == 'ft' :\n",
    "        h = 30.48 * h\n",
    "    print('Area of given triangle = {} sq.{}' .format(0.5*b*h, x) )\n",
    "    \n",
    "    \n",
    "# if length is in inches and height is in cms or inches or ft\n",
    "\n",
    "if x == 'inches' and y == 'inches' :\n",
    "     print('Area of given triangle = {} sq.{}' .format(0.5*b*h, x) )\n",
    "\n",
    "if x == 'inches' and y != 'inches' :\n",
    "    if y == 'inches' :\n",
    "        h =  h/2.54\n",
    "    if y == 'ft' :\n",
    "        h = 12 * h\n",
    "    print('Area of given triangle = {} sq.{}' .format(0.5*b*h, x) )\n",
    "    \n",
    "\n",
    "# if length is in ft and height is in cms or inches or ft\n",
    "\n",
    "if x == 'ft' and y == 'ft' :\n",
    "     print('Area of given triangle = {} sq.{}' .format(0.5*b*h, x) )\n",
    "\n",
    "if x == 'ft' and y != 'ft' :\n",
    "    if y == 'inches' :\n",
    "        h =  h/12\n",
    "    if y == 'cms' :\n",
    "        h = h/30.48\n",
    "    print('Area of given triangle = {} sq.{}' .format(0.5*b*h, x) )\n",
    "\n",
    "\n"
   ]
  },
  {
   "cell_type": "code",
   "execution_count": 33,
   "metadata": {},
   "outputs": [],
   "source": [
    "# 4.Write a Python program to swap two variables?\n",
    "\n",
    "a = 10\n",
    "b = 5\n",
    "\n",
    "x = a\n",
    "\n",
    "a=b\n",
    "b=x"
   ]
  },
  {
   "cell_type": "code",
   "execution_count": 30,
   "metadata": {},
   "outputs": [
    {
     "name": "stdout",
     "output_type": "stream",
     "text": [
      "76\n"
     ]
    }
   ],
   "source": [
    "# 5.Write a Python program to generate a random number?\n",
    "import random\n",
    "\n",
    "print(random.randint(1,90))"
   ]
  },
  {
   "cell_type": "code",
   "execution_count": null,
   "metadata": {},
   "outputs": [],
   "source": []
  }
 ],
 "metadata": {
  "kernelspec": {
   "display_name": "Python 3",
   "language": "python",
   "name": "python3"
  },
  "language_info": {
   "codemirror_mode": {
    "name": "ipython",
    "version": 3
   },
   "file_extension": ".py",
   "mimetype": "text/x-python",
   "name": "python",
   "nbconvert_exporter": "python",
   "pygments_lexer": "ipython3",
   "version": "3.8.5"
  }
 },
 "nbformat": 4,
 "nbformat_minor": 4
}
