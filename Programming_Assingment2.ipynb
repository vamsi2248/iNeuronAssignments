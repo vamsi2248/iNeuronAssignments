{
 "cells": [
  {
   "cell_type": "code",
   "execution_count": 23,
   "metadata": {},
   "outputs": [
    {
     "name": "stdout",
     "output_type": "stream",
     "text": [
      "enter distance in kms: 25\n",
      "Distance in miles = 15.537600994406464\n"
     ]
    }
   ],
   "source": [
    "# 1.Write a Python program to convert kilometers to miles?\n",
    "\n",
    "\n",
    "kms = float(input('enter distance in kms: '))\n",
    "\n",
    "print('Distance in miles = {}' .format(kms/1.609))"
   ]
  },
  {
   "cell_type": "code",
   "execution_count": 24,
   "metadata": {},
   "outputs": [
    {
     "name": "stdout",
     "output_type": "stream",
     "text": [
      "enter temperature in celsius: 98\n",
      "temperature in fahrenhiet: = 208.4\n"
     ]
    }
   ],
   "source": [
    "# 2.Write a Python program to convert Celsius to Fahrenheit?\n",
    "\n",
    "\n",
    "temp = float(input('enter temperature in celsius: '))\n",
    "\n",
    "print('temperature in fahrenhiet: = {}' .format((temp * 9/5) + 32))"
   ]
  },
  {
   "cell_type": "code",
   "execution_count": 10,
   "metadata": {},
   "outputs": [
    {
     "name": "stdout",
     "output_type": "stream",
     "text": [
      "Enter year: 2021\n",
      "Enter month: 3\n",
      "     March 2021\n",
      "Mo Tu We Th Fr Sa Su\n",
      " 1  2  3  4  5  6  7\n",
      " 8  9 10 11 12 13 14\n",
      "15 16 17 18 19 20 21\n",
      "22 23 24 25 26 27 28\n",
      "29 30 31\n",
      "\n"
     ]
    }
   ],
   "source": [
    "# 3.Write a Python program to display calendar?\n",
    "\n",
    "\n",
    "# importing calendar module\n",
    "import calendar\n",
    "\n",
    "year = int(input(\"Enter year: \"))\n",
    "month = int(input(\"Enter month: \"))\n",
    "\n",
    "# display the calendar\n",
    "print(calendar.month(year, month))"
   ]
  },
  {
   "cell_type": "code",
   "execution_count": 15,
   "metadata": {},
   "outputs": [
    {
     "name": "stdout",
     "output_type": "stream",
     "text": [
      " real and different roots \n",
      "0.679449471770337\n",
      "-3.679449471770337\n"
     ]
    },
    {
     "data": {
      "text/plain": [
       "3.0"
      ]
     },
     "execution_count": 15,
     "metadata": {},
     "output_type": "execute_result"
    }
   ],
   "source": [
    "# 4.Write a Python program to solve quadratic equation?\n",
    "\n",
    "#browsed for google and understood the code.\n",
    "# quadratic equation : ax^2 + bx + 1 \n",
    "# importing math module\n",
    "\n",
    "import math  \n",
    "  \n",
    " # function for finding roots \n",
    "def equationroots( a, b, c):  \n",
    "  \n",
    "    # calculating discriminant using formula \n",
    "    dis = b * b - 4 * a * c  \n",
    "    sqrt_val = math.sqrt(abs(dis))  \n",
    "      \n",
    "    # checking condition for discriminant \n",
    "    if dis > 0:  \n",
    "        print(\" real and different roots \")  \n",
    "        print((-b + sqrt_val)/(2 * a))  \n",
    "        print((-b - sqrt_val)/(2 * a))  \n",
    "      \n",
    "    elif dis == 0:  \n",
    "        print(\" real and same roots\")  \n",
    "        print(-b / (2 * a))  \n",
    "      \n",
    "    # when discriminant is less than 0 \n",
    "    else: \n",
    "        print(\"Complex Roots\")  \n",
    "        print(- b / (2 * a), \" + i\", sqrt_val)  \n",
    "        print(- b / (2 * a), \" - i\", sqrt_val)  \n",
    "  \n",
    " # Driver Program  \n",
    "a = 2\n",
    "b = 6\n",
    "c = -5\n",
    "  \n",
    "# If a is 0, then incorrect equation \n",
    "if a == 0:  \n",
    "        print(\"Input correct quadratic equation\")  \n",
    "\n",
    "else: \n",
    "    equationroots(a, b, c) "
   ]
  },
  {
   "cell_type": "code",
   "execution_count": 22,
   "metadata": {},
   "outputs": [
    {
     "name": "stdout",
     "output_type": "stream",
     "text": [
      "a =  96 ; b =  7\n",
      "a =  7 ; b =  96\n"
     ]
    }
   ],
   "source": [
    "# 5.Write a Python program to swap two variables without temp variable?\n",
    "\n",
    "\n",
    "a = 96\n",
    "b = 7\n",
    "\n",
    "print ('a = ', a ,'; b = ', b)\n",
    "\n",
    "a,b = b,a\n",
    "print ('a = ', a ,'; b = ', b)"
   ]
  },
  {
   "cell_type": "code",
   "execution_count": null,
   "metadata": {},
   "outputs": [],
   "source": []
  }
 ],
 "metadata": {
  "kernelspec": {
   "display_name": "Python 3",
   "language": "python",
   "name": "python3"
  },
  "language_info": {
   "codemirror_mode": {
    "name": "ipython",
    "version": 3
   },
   "file_extension": ".py",
   "mimetype": "text/x-python",
   "name": "python",
   "nbconvert_exporter": "python",
   "pygments_lexer": "ipython3",
   "version": "3.8.5"
  }
 },
 "nbformat": 4,
 "nbformat_minor": 4
}
