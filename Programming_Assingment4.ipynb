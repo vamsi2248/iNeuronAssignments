{
 "cells": [
  {
   "cell_type": "code",
   "execution_count": 28,
   "metadata": {},
   "outputs": [
    {
     "name": "stdout",
     "output_type": "stream",
     "text": [
      "enter a integer number: 5\n",
      " 5! is :  120\n"
     ]
    }
   ],
   "source": [
    "# 1.Write a Python Program to Find the Factorial of a Number?\n",
    "\n",
    "# take input from the user\n",
    "a = int(input('enter a integer number: '))\n",
    "b = a\n",
    "\n",
    "for i in range(1,a):\n",
    "    a = a * i\n",
    "    \n",
    "print (' {}! is : '.format(b), a)\n",
    "    "
   ]
  },
  {
   "cell_type": "code",
   "execution_count": 29,
   "metadata": {},
   "outputs": [
    {
     "name": "stdout",
     "output_type": "stream",
     "text": [
      "enter a integer number to display multiplication table: 2\n",
      "2  *  1  =  2\n",
      "2  *  2  =  4\n",
      "2  *  3  =  6\n",
      "2  *  4  =  8\n",
      "2  *  5  =  10\n",
      "2  *  6  =  12\n",
      "2  *  7  =  14\n",
      "2  *  8  =  16\n",
      "2  *  9  =  18\n",
      "2  *  10  =  20\n"
     ]
    }
   ],
   "source": [
    "# 2.Write a Python Program to Display the multiplication Table?\n",
    "\n",
    "# take input from the user\n",
    "a = int(input('enter a integer number to display multiplication table: '))\n",
    "\n",
    "for i in range(1,11):\n",
    "    print(a , ' * ' , i ,' = ', a*i)"
   ]
  },
  {
   "cell_type": "code",
   "execution_count": 30,
   "metadata": {},
   "outputs": [
    {
     "name": "stdout",
     "output_type": "stream",
     "text": [
      "how many fibonacci numbers do you want: 10\n",
      " first 10 Fibonacci numbers are :  [0, 1, 1, 2, 3, 5, 8, 13, 21, 34]\n"
     ]
    }
   ],
   "source": [
    "# 3.Write a Python Program to Print the Fibonacci sequence?\n",
    "\n",
    "# take input from the user\n",
    "a = int(input('how many fibonacci numbers do you want: '))\n",
    "b = [0,1]\n",
    "\n",
    "for i in range(a-2) :\n",
    "    b.append(b[-1]+b[-2])\n",
    "    \n",
    "print(' first {} Fibonacci numbers are : '.format(a),b)"
   ]
  },
  {
   "cell_type": "code",
   "execution_count": 31,
   "metadata": {},
   "outputs": [
    {
     "name": "stdout",
     "output_type": "stream",
     "text": [
      "Enter a number: 100\n",
      "100 is not an Armstrong number\n"
     ]
    }
   ],
   "source": [
    "# 4.Write a Python Program to Check Armstrong Number?\n",
    "\n",
    "\n",
    "num = int(input(\"Enter a number: \"))\n",
    "\n",
    "sum = 0\n",
    "\n",
    "# find the sum of the cube of each digit\n",
    "\n",
    "temp = num\n",
    "while temp > 0:\n",
    "    digit = temp % 10\n",
    "    sum = sum + (digit ** 3)\n",
    "    temp = temp // 10\n",
    "\n",
    "if num == sum:\n",
    "    print(num,\"is an Armstrong number\")\n",
    "else:\n",
    "    print(num,\"is not an Armstrong number\")"
   ]
  },
  {
   "cell_type": "code",
   "execution_count": 36,
   "metadata": {},
   "outputs": [
    {
     "name": "stdout",
     "output_type": "stream",
     "text": [
      "enter lower bound : 0\n",
      "enter upper bound : 100000\n",
      "Armstrong numbers in range 0 t0 100000 are :  [0, 1, 2, 3, 4, 5, 6, 7, 8, 9, 153, 370, 371, 407, 1634, 8208, 9474, 54748, 92727, 93084]\n"
     ]
    }
   ],
   "source": [
    "# 5.Write a Python Program to Find Armstrong Number in an Interval?\n",
    "\n",
    "\n",
    "lower = int(input('enter lower bound : '))\n",
    "upper = int(input('enter upper bound : '))\n",
    "armstrong_numbers = []\n",
    "\n",
    "for i in range(lower, upper+1) :\n",
    "    \n",
    "    order = len(str(i))\n",
    "    sum = 0\n",
    "    \n",
    "    temp = i\n",
    "    while temp > 0:\n",
    "        digit = temp % 10\n",
    "        sum = sum + (digit ** order)\n",
    "        temp = temp // 10\n",
    "\n",
    "    if i == sum :\n",
    "        armstrong_numbers.append(i)\n",
    "   \n",
    "    \n",
    "print('Armstrong numbers in range {} t0 {} are : '.format(lower,upper), armstrong_numbers)"
   ]
  },
  {
   "cell_type": "code",
   "execution_count": 37,
   "metadata": {},
   "outputs": [
    {
     "name": "stdout",
     "output_type": "stream",
     "text": [
      "enter a number : 10\n",
      "sum of first 10 natural numbers is :  55\n"
     ]
    }
   ],
   "source": [
    "# 6.Write a Python Program to Find the Sum of Natural Numbers?\n",
    "\n",
    "natural_numbers = int(input('enter a number : '))\n",
    "\n",
    "sum = 0\n",
    " \n",
    "for i in range(natural_numbers+1):\n",
    "    sum += i\n",
    "    \n",
    "print('sum of first {} natural numbers is : ' .format(natural_numbers), sum)"
   ]
  },
  {
   "cell_type": "code",
   "execution_count": null,
   "metadata": {},
   "outputs": [],
   "source": []
  },
  {
   "cell_type": "code",
   "execution_count": null,
   "metadata": {},
   "outputs": [],
   "source": []
  }
 ],
 "metadata": {
  "kernelspec": {
   "display_name": "Python 3",
   "language": "python",
   "name": "python3"
  },
  "language_info": {
   "codemirror_mode": {
    "name": "ipython",
    "version": 3
   },
   "file_extension": ".py",
   "mimetype": "text/x-python",
   "name": "python",
   "nbconvert_exporter": "python",
   "pygments_lexer": "ipython3",
   "version": "3.8.5"
  }
 },
 "nbformat": 4,
 "nbformat_minor": 4
}
